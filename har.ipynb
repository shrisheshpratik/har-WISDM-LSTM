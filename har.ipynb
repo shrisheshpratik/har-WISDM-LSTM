{
 "cells": [
  {
   "cell_type": "code",
   "execution_count": 1,
   "metadata": {
    "collapsed": true
   },
   "outputs": [],
   "source": [
    "import pandas as pd\n",
    "import numpy as np\n",
    "import tensorflow as tf\n",
    "import keras\n",
    "import os"
   ]
  },
  {
   "cell_type": "code",
   "execution_count": 14,
   "outputs": [],
   "source": [
    "def predict_activity(l):\n",
    "\n",
    "    if(l[0]>l[1] and l[0]>l[2] and l[0]>l[3] and l[0]>l[4] and l[0]>l[5]):\n",
    "        return 'Climbing'\n",
    "\n",
    "\n",
    "    if(l[1]>l[0] and l[1]>l[2] and l[1]>l[3] and l[1]>l[4] and l[1]>l[5]):\n",
    "        return 'Jogging'\n",
    "\n",
    "    if(l[2]>l[0] and l[2]>l[1] and l[2]>l[3] and l[2]>l[4] and l[2]>l[5]):\n",
    "        return 'Sitting/Standing'\n",
    "\n",
    "\n",
    "    if(l[3]>l[0] and l[3]>l[1] and l[3]>l[2] and l[3]>l[4] and l[3]>l[5]):\n",
    "        return 'Sitting/Standing'\n",
    "\n",
    "\n",
    "\n",
    "    if(l[4]>l[0] and l[4]>l[1] and l[4]>l[2] and l[4]>l[3] and l[4]>l[5]):\n",
    "        return 'Climbing'\n",
    "\n",
    "\n",
    "\n",
    "    if(l[5]>l[0] and l[5]>l[1] and l[5]>l[2] and l[5]>l[3] and l[5]>l[4]):\n",
    "        return 'Walking'\n",
    "\n",
    "    return 'Error'"
   ],
   "metadata": {
    "collapsed": false,
    "pycharm": {
     "name": "#%%\n"
    }
   }
  },
  {
   "cell_type": "code",
   "execution_count": 15,
   "outputs": [],
   "source": [
    "regressor = keras.models.load_model('models/saved_model.h5')\n",
    "\n",
    "# keras_file = 'saved_model.h5'\n",
    "#\n",
    "# converter = tf.lite.TFLiteConverter.from_saved_model('models/saved_model.h5')\n",
    "# regressor1 = converter.convert()\n"
   ],
   "metadata": {
    "collapsed": false,
    "pycharm": {
     "name": "#%%\n"
    }
   }
  },
  {
   "cell_type": "code",
   "execution_count": 16,
   "outputs": [
    {
     "data": {
      "text/plain": "     x-axis    y-axis     z-axis\n0  1.022334  3.296711  11.202000\n1  0.727717  3.057130  11.022537\n2  0.275175  2.963810  10.179666\n3  0.055035  3.016452   9.028120\n4  0.124427  3.191427   8.166405",
      "text/html": "<div>\n<style scoped>\n    .dataframe tbody tr th:only-of-type {\n        vertical-align: middle;\n    }\n\n    .dataframe tbody tr th {\n        vertical-align: top;\n    }\n\n    .dataframe thead th {\n        text-align: right;\n    }\n</style>\n<table border=\"1\" class=\"dataframe\">\n  <thead>\n    <tr style=\"text-align: right;\">\n      <th></th>\n      <th>x-axis</th>\n      <th>y-axis</th>\n      <th>z-axis</th>\n    </tr>\n  </thead>\n  <tbody>\n    <tr>\n      <th>0</th>\n      <td>1.022334</td>\n      <td>3.296711</td>\n      <td>11.202000</td>\n    </tr>\n    <tr>\n      <th>1</th>\n      <td>0.727717</td>\n      <td>3.057130</td>\n      <td>11.022537</td>\n    </tr>\n    <tr>\n      <th>2</th>\n      <td>0.275175</td>\n      <td>2.963810</td>\n      <td>10.179666</td>\n    </tr>\n    <tr>\n      <th>3</th>\n      <td>0.055035</td>\n      <td>3.016452</td>\n      <td>9.028120</td>\n    </tr>\n    <tr>\n      <th>4</th>\n      <td>0.124427</td>\n      <td>3.191427</td>\n      <td>8.166405</td>\n    </tr>\n  </tbody>\n</table>\n</div>"
     },
     "execution_count": 16,
     "metadata": {},
     "output_type": "execute_result"
    }
   ],
   "source": [
    "columns2 = ['x-axis', 'y-axis', 'z-axis']\n",
    "df2 = pd.read_csv('data/0.09587218598248226.txt', header = None, names = columns2,on_bad_lines='skip',sep=\",\")\n",
    "df2 = df2.dropna()\n",
    "df2.head()\n"
   ],
   "metadata": {
    "collapsed": false,
    "pycharm": {
     "name": "#%%\n"
    }
   }
  },
  {
   "cell_type": "code",
   "execution_count": 17,
   "outputs": [],
   "source": [
    "\n",
    "N_TIME_STEPS = 200\n",
    "N_FEATURES = 3\n",
    "step = 20\n",
    "segments2 = []\n",
    "\n",
    "for i in range(0, len(df2) - N_TIME_STEPS, step):\n",
    "    xs = df2['x-axis'].values[i: i + N_TIME_STEPS]\n",
    "    ys = df2['y-axis'].values[i: i + N_TIME_STEPS]\n",
    "    zs = df2['z-axis'].values[i: i + N_TIME_STEPS]\n",
    "    segments2.append([xs, ys, zs])"
   ],
   "metadata": {
    "collapsed": false,
    "pycharm": {
     "name": "#%%\n"
    }
   }
  },
  {
   "cell_type": "code",
   "execution_count": 18,
   "outputs": [
    {
     "data": {
      "text/plain": "(65, 3, 200)"
     },
     "execution_count": 18,
     "metadata": {},
     "output_type": "execute_result"
    }
   ],
   "source": [
    "np.array(segments2).shape"
   ],
   "metadata": {
    "collapsed": false,
    "pycharm": {
     "name": "#%%\n"
    }
   }
  },
  {
   "cell_type": "code",
   "execution_count": 19,
   "outputs": [
    {
     "data": {
      "text/plain": "(65, 200, 3)"
     },
     "execution_count": 19,
     "metadata": {},
     "output_type": "execute_result"
    }
   ],
   "source": [
    "reshaped_segments2 = np.asarray(segments2, dtype= np.float32).reshape(-1, N_TIME_STEPS, N_FEATURES)\n",
    "reshaped_segments2.shape"
   ],
   "metadata": {
    "collapsed": false,
    "pycharm": {
     "name": "#%%\n"
    }
   }
  },
  {
   "cell_type": "code",
   "execution_count": 20,
   "outputs": [
    {
     "name": "stdout",
     "output_type": "stream",
     "text": [
      "['Sitting/Standing', 'Sitting/Standing', 'Sitting/Standing', 'Sitting/Standing', 'Sitting/Standing', 'Sitting/Standing', 'Sitting/Standing', 'Sitting/Standing', 'Sitting/Standing', 'Sitting/Standing', 'Sitting/Standing', 'Sitting/Standing', 'Sitting/Standing', 'Sitting/Standing', 'Sitting/Standing', 'Sitting/Standing', 'Sitting/Standing', 'Sitting/Standing', 'Sitting/Standing', 'Sitting/Standing', 'Sitting/Standing', 'Sitting/Standing', 'Sitting/Standing', 'Sitting/Standing', 'Sitting/Standing', 'Sitting/Standing', 'Sitting/Standing', 'Sitting/Standing', 'Sitting/Standing', 'Sitting/Standing', 'Sitting/Standing', 'Sitting/Standing', 'Sitting/Standing', 'Sitting/Standing', 'Sitting/Standing', 'Sitting/Standing', 'Sitting/Standing', 'Sitting/Standing', 'Sitting/Standing', 'Climbing', 'Climbing', 'Climbing', 'Climbing', 'Climbing', 'Climbing', 'Walking', 'Walking', 'Climbing', 'Climbing', 'Climbing', 'Climbing', 'Climbing', 'Climbing', 'Climbing', 'Climbing', 'Climbing', 'Climbing', 'Climbing', 'Climbing', 'Climbing', 'Climbing', 'Walking', 'Walking', 'Walking', 'Walking']\n"
     ]
    }
   ],
   "source": [
    "predicted_val = regressor.predict(reshaped_segments2)\n",
    "res = []\n",
    "\n",
    "###############    IDEA ---- SLIDING WINDOW MAX IN RESULT ALSO #################\n",
    "for val in predicted_val:\n",
    "    res.append(predict_activity(val))\n",
    "\n",
    "print(res)\n",
    "\n"
   ],
   "metadata": {
    "collapsed": false,
    "pycharm": {
     "name": "#%%\n"
    }
   }
  },
  {
   "cell_type": "code",
   "execution_count": 13,
   "outputs": [],
   "source": [],
   "metadata": {
    "collapsed": false,
    "pycharm": {
     "name": "#%%\n"
    }
   }
  },
  {
   "cell_type": "code",
   "execution_count": 395,
   "outputs": [],
   "source": [],
   "metadata": {
    "collapsed": false,
    "pycharm": {
     "name": "#%%\n"
    }
   }
  },
  {
   "cell_type": "code",
   "execution_count": null,
   "outputs": [],
   "source": [],
   "metadata": {
    "collapsed": false,
    "pycharm": {
     "name": "#%%\n"
    }
   }
  }
 ],
 "metadata": {
  "kernelspec": {
   "display_name": "Python 3",
   "language": "python",
   "name": "python3"
  },
  "language_info": {
   "codemirror_mode": {
    "name": "ipython",
    "version": 2
   },
   "file_extension": ".py",
   "mimetype": "text/x-python",
   "name": "python",
   "nbconvert_exporter": "python",
   "pygments_lexer": "ipython2",
   "version": "2.7.6"
  }
 },
 "nbformat": 4,
 "nbformat_minor": 0
}