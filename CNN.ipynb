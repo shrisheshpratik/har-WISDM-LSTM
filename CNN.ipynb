{
 "cells": [
  {
   "cell_type": "code",
   "execution_count": 5,
   "metadata": {
    "scrolled": false
   },
   "outputs": [
    {
     "name": "stdout",
     "output_type": "stream",
     "text": [
      "<class 'pandas.core.frame.DataFrame'>\n",
      "Int64Index: 1086465 entries, 0 to 1086465\n",
      "Data columns (total 6 columns):\n",
      " #   Column     Non-Null Count    Dtype  \n",
      "---  ------     --------------    -----  \n",
      " 0   user       1086465 non-null  int64  \n",
      " 1   activity   1086465 non-null  object \n",
      " 2   timestamp  1086465 non-null  int64  \n",
      " 3   x-axis     1086465 non-null  float64\n",
      " 4   y-axis     1086465 non-null  float64\n",
      " 5   z-axis     1086465 non-null  float64\n",
      "dtypes: float64(3), int64(2), object(1)\n",
      "memory usage: 58.0+ MB\n"
     ]
    }
   ],
   "source": [
    "import pandas as pd\n",
    "import numpy as np\n",
    "import pickle\n",
    "import matplotlib.pyplot as plt\n",
    "from scipy import stats\n",
    "import tensorflow as tf\n",
    "import seaborn as sns\n",
    "from pylab import rcParams\n",
    "from sklearn import metrics\n",
    "from sklearn.model_selection import train_test_split\n",
    "from sklearn.metrics import confusion_matrix, auc, roc_curve, roc_auc_score, precision_score, recall_score, f1_score, accuracy_score, classification_report, SCORERS, log_loss\n",
    "#####################################################################################################################\n",
    "sns.set(style='whitegrid', palette='muted', font_scale=1.5)\n",
    "rcParams['figure.figsize'] = 10, 6\n",
    "############################################### load data ############################################################\n",
    "RANDOM_SEED = 42\n",
    "columns = ['user','activity','timestamp', 'x-axis', 'y-axis', 'z-axis']\n",
    "df = pd.read_csv('data/WISDM_ar_v1.1_raw.txt', header = None, names = columns, on_bad_lines='skip')\n",
    "df = df.dropna()\n",
    "df.head()\n",
    "df.info()"
   ]
  },
  {
   "cell_type": "code",
   "execution_count": 6,
   "outputs": [],
   "source": [
    "N_TIME_STEPS = 90\n",
    "N_FEATURES = 3\n",
    "step = 20\n",
    "segments = []\n",
    "labels = []\n",
    "for i in range(0, len(df) - N_TIME_STEPS, step):\n",
    "    xs = df['x-axis'].values[i: i + N_TIME_STEPS]\n",
    "    ys = df['y-axis'].values[i: i + N_TIME_STEPS]\n",
    "    zs = df['z-axis'].values[i: i + N_TIME_STEPS]\n",
    "    label = stats.mode(df['activity'][i: i + N_TIME_STEPS])[0][0]\n",
    "    segments.append([xs, ys, zs])\n",
    "    labels.append(label)\n",
    "\n",
    "reshaped_segments = np.asarray(segments, dtype= np.float32).reshape(-1, N_TIME_STEPS, N_FEATURES)\n",
    "labels = np.asarray(pd.get_dummies(labels), dtype = np.float32)\n",
    "\n",
    "X_train, X_test, y_train, y_test = train_test_split(\n",
    "        reshaped_segments, labels, test_size=0.2, random_state=RANDOM_SEED)\n",
    "X_train = tf.expand_dims(X_train, axis=-1)"
   ],
   "metadata": {
    "collapsed": false,
    "pycharm": {
     "name": "#%%\n"
    }
   }
  },
  {
   "cell_type": "code",
   "execution_count": null,
   "outputs": [],
   "source": [],
   "metadata": {
    "collapsed": false,
    "pycharm": {
     "name": "#%%\n"
    }
   }
  },
  {
   "cell_type": "code",
   "execution_count": 7,
   "metadata": {},
   "outputs": [],
   "source": [
    "N_CLASSES = 6\n",
    "BATCH_SIZE = 64\n",
    "LEARNING_RATE = 0.0025\n",
    "N_EPOCHS = 50 #50\n",
    "########################################################################################################################\n",
    "from keras.models import Sequential\n",
    "from keras.layers import Dense\n",
    "from keras.layers import Conv2D, Flatten\n",
    "from keras.layers import Dropout\n",
    "model = Sequential()\n",
    "model.add(Conv2D(16, (2, 2), activation = 'relu', input_shape = X_train[0].shape))\n",
    "model.add(Dropout(0.1))\n",
    "\n",
    "model.add(Conv2D(32, (2, 2), activation='relu'))\n",
    "model.add(Dropout(0.2))\n",
    "\n",
    "model.add(Flatten())\n",
    "\n",
    "model.add(Dense(64, activation = 'relu'))\n",
    "model.add(Dropout(0.5))\n",
    "\n",
    "model.add(Dense(6, activation='softmax'))\n"
   ]
  },
  {
   "cell_type": "code",
   "execution_count": 8,
   "metadata": {},
   "outputs": [],
   "source": [
    "model.add(Dense(units=6, activation='softmax'))\n",
    "model.compile(loss='categorical_crossentropy', optimizer='adam', metrics=['accuracy'])\n",
    "\n",
    "epochs = 50\n",
    "batch_size = 1024"
   ]
  },
  {
   "cell_type": "code",
   "execution_count": 9,
   "metadata": {},
   "outputs": [
    {
     "name": "stderr",
     "output_type": "stream",
     "text": [
      "2022-04-20 18:38:33.010888: W tensorflow/core/platform/profile_utils/cpu_utils.cc:128] Failed to get CPU frequency: 0 Hz\n"
     ]
    },
    {
     "name": "stdout",
     "output_type": "stream",
     "text": [
      "Epoch 1/50\n",
      "39/39 [==============================] - 1s 23ms/step - loss: 1.5574 - accuracy: 0.3294 - val_loss: 1.5080 - val_accuracy: 0.2566\n",
      "Epoch 2/50\n",
      "39/39 [==============================] - 1s 22ms/step - loss: 1.4862 - accuracy: 0.3711 - val_loss: 1.4586 - val_accuracy: 0.3863\n",
      "Epoch 3/50\n",
      "39/39 [==============================] - 1s 23ms/step - loss: 1.4380 - accuracy: 0.3998 - val_loss: 1.4108 - val_accuracy: 0.6351\n",
      "Epoch 4/50\n",
      "39/39 [==============================] - 1s 23ms/step - loss: 1.3932 - accuracy: 0.6573 - val_loss: 1.3675 - val_accuracy: 0.6597\n",
      "Epoch 5/50\n",
      "39/39 [==============================] - 1s 22ms/step - loss: 1.3479 - accuracy: 0.6663 - val_loss: 1.3229 - val_accuracy: 0.6691\n",
      "Epoch 6/50\n",
      "39/39 [==============================] - 1s 23ms/step - loss: 1.3067 - accuracy: 0.6694 - val_loss: 1.2836 - val_accuracy: 0.6700\n",
      "Epoch 7/50\n",
      "39/39 [==============================] - 1s 22ms/step - loss: 1.2709 - accuracy: 0.6703 - val_loss: 1.2514 - val_accuracy: 0.6694\n",
      "Epoch 8/50\n",
      "39/39 [==============================] - 1s 23ms/step - loss: 1.2389 - accuracy: 0.6723 - val_loss: 1.2218 - val_accuracy: 0.6728\n",
      "Epoch 9/50\n",
      "39/39 [==============================] - 1s 23ms/step - loss: 1.2096 - accuracy: 0.6800 - val_loss: 1.1901 - val_accuracy: 0.6861\n",
      "Epoch 10/50\n",
      "39/39 [==============================] - 1s 23ms/step - loss: 1.1814 - accuracy: 0.6860 - val_loss: 1.1673 - val_accuracy: 0.6859\n",
      "Epoch 11/50\n",
      "39/39 [==============================] - 1s 23ms/step - loss: 1.1601 - accuracy: 0.6864 - val_loss: 1.1481 - val_accuracy: 0.6866\n",
      "Epoch 12/50\n",
      "39/39 [==============================] - 1s 22ms/step - loss: 1.1415 - accuracy: 0.6867 - val_loss: 1.1315 - val_accuracy: 0.6875\n",
      "Epoch 13/50\n",
      "39/39 [==============================] - 1s 23ms/step - loss: 1.1246 - accuracy: 0.6876 - val_loss: 1.1158 - val_accuracy: 0.6875\n",
      "Epoch 14/50\n",
      "39/39 [==============================] - 1s 22ms/step - loss: 1.1103 - accuracy: 0.6876 - val_loss: 1.1034 - val_accuracy: 0.6861\n",
      "Epoch 15/50\n",
      "39/39 [==============================] - 1s 23ms/step - loss: 1.0943 - accuracy: 0.6876 - val_loss: 1.0765 - val_accuracy: 0.6873\n",
      "Epoch 16/50\n",
      "39/39 [==============================] - 1s 22ms/step - loss: 1.0664 - accuracy: 0.6873 - val_loss: 1.0512 - val_accuracy: 0.6875\n",
      "Epoch 17/50\n",
      "39/39 [==============================] - 1s 23ms/step - loss: 1.0394 - accuracy: 0.6874 - val_loss: 1.0137 - val_accuracy: 0.6864\n",
      "Epoch 18/50\n",
      "39/39 [==============================] - 1s 22ms/step - loss: 0.9956 - accuracy: 0.6860 - val_loss: 0.9678 - val_accuracy: 0.6880\n",
      "Epoch 19/50\n",
      "39/39 [==============================] - 1s 23ms/step - loss: 0.9617 - accuracy: 0.6870 - val_loss: 0.9420 - val_accuracy: 0.6873\n",
      "Epoch 20/50\n",
      "39/39 [==============================] - 1s 23ms/step - loss: 0.9361 - accuracy: 0.6883 - val_loss: 0.9209 - val_accuracy: 0.6871\n",
      "Epoch 21/50\n",
      "39/39 [==============================] - 1s 23ms/step - loss: 0.9166 - accuracy: 0.7363 - val_loss: 0.9024 - val_accuracy: 0.7446\n",
      "Epoch 22/50\n",
      "39/39 [==============================] - 1s 23ms/step - loss: 0.8977 - accuracy: 0.7415 - val_loss: 0.8861 - val_accuracy: 0.7448\n",
      "Epoch 23/50\n",
      "39/39 [==============================] - 1s 22ms/step - loss: 0.8812 - accuracy: 0.7417 - val_loss: 0.8705 - val_accuracy: 0.7444\n",
      "Epoch 24/50\n",
      "39/39 [==============================] - 1s 23ms/step - loss: 0.8684 - accuracy: 0.7417 - val_loss: 0.8575 - val_accuracy: 0.7448\n",
      "Epoch 25/50\n",
      "39/39 [==============================] - 1s 22ms/step - loss: 0.8537 - accuracy: 0.7428 - val_loss: 0.8474 - val_accuracy: 0.7448\n",
      "Epoch 26/50\n",
      "39/39 [==============================] - 1s 23ms/step - loss: 0.8423 - accuracy: 0.7426 - val_loss: 0.8341 - val_accuracy: 0.7444\n",
      "Epoch 27/50\n",
      "39/39 [==============================] - 1s 22ms/step - loss: 0.8310 - accuracy: 0.7422 - val_loss: 0.8249 - val_accuracy: 0.7453\n",
      "Epoch 28/50\n",
      "39/39 [==============================] - 1s 23ms/step - loss: 0.8204 - accuracy: 0.7428 - val_loss: 0.8155 - val_accuracy: 0.7451\n",
      "Epoch 29/50\n",
      "39/39 [==============================] - 1s 23ms/step - loss: 0.8118 - accuracy: 0.7428 - val_loss: 0.8074 - val_accuracy: 0.7437\n",
      "Epoch 30/50\n",
      "39/39 [==============================] - 1s 23ms/step - loss: 0.8034 - accuracy: 0.7424 - val_loss: 0.7983 - val_accuracy: 0.7448\n",
      "Epoch 31/50\n",
      "39/39 [==============================] - 1s 23ms/step - loss: 0.7934 - accuracy: 0.7432 - val_loss: 0.7908 - val_accuracy: 0.7439\n",
      "Epoch 32/50\n",
      "39/39 [==============================] - 1s 23ms/step - loss: 0.7883 - accuracy: 0.7423 - val_loss: 0.7830 - val_accuracy: 0.7451\n",
      "Epoch 33/50\n",
      "39/39 [==============================] - 1s 22ms/step - loss: 0.7793 - accuracy: 0.7428 - val_loss: 0.7760 - val_accuracy: 0.7446\n",
      "Epoch 34/50\n",
      "39/39 [==============================] - 1s 22ms/step - loss: 0.7731 - accuracy: 0.7427 - val_loss: 0.7692 - val_accuracy: 0.7453\n",
      "Epoch 35/50\n",
      "39/39 [==============================] - 1s 23ms/step - loss: 0.7665 - accuracy: 0.7431 - val_loss: 0.7634 - val_accuracy: 0.7453\n",
      "Epoch 36/50\n",
      "39/39 [==============================] - 1s 23ms/step - loss: 0.7604 - accuracy: 0.7432 - val_loss: 0.7570 - val_accuracy: 0.7455\n",
      "Epoch 37/50\n",
      "39/39 [==============================] - 1s 23ms/step - loss: 0.7551 - accuracy: 0.7433 - val_loss: 0.7521 - val_accuracy: 0.7457\n",
      "Epoch 38/50\n",
      "39/39 [==============================] - 1s 22ms/step - loss: 0.7508 - accuracy: 0.7438 - val_loss: 0.7456 - val_accuracy: 0.7462\n",
      "Epoch 39/50\n",
      "39/39 [==============================] - 1s 23ms/step - loss: 0.7343 - accuracy: 0.7519 - val_loss: 0.7114 - val_accuracy: 0.7701\n",
      "Epoch 40/50\n",
      "39/39 [==============================] - 1s 22ms/step - loss: 0.7037 - accuracy: 0.7719 - val_loss: 0.6710 - val_accuracy: 0.7892\n",
      "Epoch 41/50\n",
      "39/39 [==============================] - 1s 22ms/step - loss: 0.6707 - accuracy: 0.7862 - val_loss: 0.6423 - val_accuracy: 0.7966\n",
      "Epoch 42/50\n",
      "39/39 [==============================] - 1s 23ms/step - loss: 0.6445 - accuracy: 0.7914 - val_loss: 0.6180 - val_accuracy: 0.8021\n",
      "Epoch 43/50\n",
      "39/39 [==============================] - 1s 23ms/step - loss: 0.6244 - accuracy: 0.7966 - val_loss: 0.5895 - val_accuracy: 0.8127\n",
      "Epoch 44/50\n",
      "39/39 [==============================] - 1s 23ms/step - loss: 0.6030 - accuracy: 0.8011 - val_loss: 0.5948 - val_accuracy: 0.8058\n",
      "Epoch 45/50\n",
      "39/39 [==============================] - 1s 23ms/step - loss: 0.5837 - accuracy: 0.8054 - val_loss: 0.5629 - val_accuracy: 0.8157\n",
      "Epoch 46/50\n",
      "39/39 [==============================] - 1s 23ms/step - loss: 0.5699 - accuracy: 0.8070 - val_loss: 0.5397 - val_accuracy: 0.8191\n",
      "Epoch 47/50\n",
      "39/39 [==============================] - 1s 23ms/step - loss: 0.5567 - accuracy: 0.8090 - val_loss: 0.5476 - val_accuracy: 0.8118\n",
      "Epoch 48/50\n",
      "39/39 [==============================] - 1s 23ms/step - loss: 0.5412 - accuracy: 0.8125 - val_loss: 0.5152 - val_accuracy: 0.8226\n",
      "Epoch 49/50\n",
      "39/39 [==============================] - 1s 23ms/step - loss: 0.5324 - accuracy: 0.8129 - val_loss: 0.5237 - val_accuracy: 0.8166\n",
      "Epoch 50/50\n",
      "39/39 [==============================] - 1s 22ms/step - loss: 0.5155 - accuracy: 0.8163 - val_loss: 0.4976 - val_accuracy: 0.8233\n"
     ]
    }
   ],
   "source": [
    "history = model.fit(X_train, y_train, epochs=epochs, batch_size=batch_size,validation_split=0.1)"
   ]
  },
  {
   "cell_type": "code",
   "execution_count": 10,
   "outputs": [
    {
     "name": "stdout",
     "output_type": "stream",
     "text": [
      "340/340 [==============================] - 0s 1ms/step - loss: 0.4993 - accuracy: 0.8217\n",
      "Test set\n",
      "  Loss: 0.499\n",
      "  Accuracy: 0.822\n"
     ]
    },
    {
     "data": {
      "text/plain": "<Figure size 720x432 with 1 Axes>",
      "image/png": "[encoded data removed]"
     },
     "metadata": {},
     "output_type": "display_data"
    }
   ],
   "source": [
    "accr = model.evaluate(X_test,y_test)\n",
    "print('Test set\\n  Loss: {:0.3f}\\n  Accuracy: {:0.3f}'.format(accr[0],accr[1]))\n",
    "plt.title('Loss')\n",
    "plt.plot(history.history['loss'], label='train')\n",
    "plt.plot(history.history['val_loss'], label='test')\n",
    "plt.legend()\n",
    "plt.show();"
   ],
   "metadata": {
    "collapsed": false,
    "pycharm": {
     "name": "#%%\n"
    }
   }
  },
  {
   "cell_type": "code",
   "execution_count": 11,
   "outputs": [
    {
     "name": "stderr",
     "output_type": "stream",
     "text": [
      "2022-04-20 18:40:35.292822: W tensorflow/python/util/util.cc:368] Sets are not currently considered sequences, but this may change in the future, so consider avoiding using them.\n"
     ]
    },
    {
     "name": "stdout",
     "output_type": "stream",
     "text": [
      "INFO:tensorflow:Assets written to: models/CNNv1/assets\n"
     ]
    }
   ],
   "source": [
    "model.save('models/CNNv1')"
   ],
   "metadata": {
    "collapsed": false,
    "pycharm": {
     "name": "#%%\n"
    }
   }
  },
  {
   "cell_type": "code",
   "execution_count": null,
   "outputs": [],
   "source": [],
   "metadata": {
    "collapsed": false,
    "pycharm": {
     "name": "#%%\n"
    }
   }
  }
 ],
 "metadata": {
  "kernelspec": {
   "display_name": "Python 3 (ipykernel)",
   "language": "python",
   "name": "python3"
  },
  "language_info": {
   "codemirror_mode": {
    "name": "ipython",
    "version": 3
   },
   "file_extension": ".py",
   "mimetype": "text/x-python",
   "name": "python",
   "nbconvert_exporter": "python",
   "pygments_lexer": "ipython3",
   "version": "3.8.12"
  }
 },
 "nbformat": 4,
 "nbformat_minor": 4
}